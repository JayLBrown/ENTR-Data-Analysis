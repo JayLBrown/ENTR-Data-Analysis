{
 "cells": [
  {
   "cell_type": "code",
   "execution_count": 59,
   "metadata": {},
   "outputs": [],
   "source": [
    "import pandas as pd\n",
    "import matplotlib.pyplot as plt\n",
    "import seaborn as sns\n",
    "import numpy as np\n",
    "import matplotlib.font_manager\n",
    "%matplotlib inline"
   ]
  },
  {
   "cell_type": "markdown",
   "metadata": {},
   "source": [
    "#### Functions"
   ]
  },
  {
   "cell_type": "code",
   "execution_count": 149,
   "metadata": {},
   "outputs": [],
   "source": [
    "def pieHoleChartBuilder(labels, sizes, title, filename):\n",
    "    '''Creates piechart'''\n",
    "    \n",
    "    labels = labels\n",
    "    sizes = sizes\n",
    "    \n",
    "    colors = ['#ff9999','#66b3ff','#99ff99']\n",
    "    explode = (0.01, 0.01, 0.01)  \n",
    "    \n",
    "    fig1, ax1 = plt.subplots()\n",
    "    ax1.pie(sizes, colors = colors,explode = explode, labels=labels, autopct='%1.1f%%', startangle=90)\n",
    "    \n",
    "    #draw circle\n",
    "    centre_circle = plt.Circle((0,0),0.70,fc='white')\n",
    "    fig = plt.gcf()\n",
    "    fig.gca().add_artist(centre_circle)\n",
    "    \n",
    "    # Equal aspect ratio ensures that pie is drawn as a circle\n",
    "    ax1.axis('equal')  \n",
    "    plt.title(title)\n",
    "    plt.tight_layout()\n",
    "    plt.savefig(filename)\n",
    "    \n",
    "    return plt.show()"
   ]
  },
  {
   "cell_type": "code",
   "execution_count": 217,
   "metadata": {},
   "outputs": [],
   "source": [
    "def pieChartBuilder(labels, sizes, title, filename, explode, colors):\n",
    "    '''Creates piechart'''\n",
    "    \n",
    "    labels = labels\n",
    "    sizes = sizes\n",
    "    \n",
    "    colors = colors\n",
    "    explode = explode  \n",
    "    \n",
    "    fig1, ax1 = plt.subplots()\n",
    "    ax1.pie(sizes, colors = colors,\n",
    "            explode = explode, \n",
    "            labels=labels, \n",
    "            autopct='%1.1f%%', \n",
    "            startangle=90, \n",
    "            shadow=True)\n",
    "    \n",
    "    # Equal aspect ratio ensures that pie is drawn as a circle\n",
    "    ax1.axis('equal')  \n",
    "    plt.title(title)\n",
    "    plt.tight_layout()\n",
    "    plt.savefig(filename)\n",
    "    \n",
    "    return plt.show()"
   ]
  },
  {
   "cell_type": "code",
   "execution_count": 202,
   "metadata": {},
   "outputs": [],
   "source": [
    "def barGraphBuilder(objects, bins, title, ylabel,  filename):\n",
    "    '''Creates bargraph'''\n",
    "    objects = ('Negative', 'Positive', 'Indifferent')\n",
    "\n",
    "    y_pos = np.arange(len(objects))\n",
    "    bins = bins\n",
    "\n",
    "    colors = ['#ff9999','#66b3ff','#99ff99']\n",
    "\n",
    "    plt.bar(y_pos, bins, align='center', alpha=1, color=colors)\n",
    "    plt.xticks(y_pos, objects)\n",
    "    plt.ylabel(ylabel)\n",
    "    plt.title(title)\n",
    "#     plt.grid(True)\n",
    "    plt.savefig(filename)\n",
    "    \n",
    "    return plt.show()"
   ]
  },
  {
   "cell_type": "code",
   "execution_count": 136,
   "metadata": {},
   "outputs": [],
   "source": [
    "def zero_to_nan(list):\n",
    "    return [np.nan if x==0 else x for x in list]"
   ]
  },
  {
   "cell_type": "markdown",
   "metadata": {},
   "source": [
    "## Emotional Impact of Single-use Plastics\n",
    "- Section analyzes responses to question 1 for all reponses, looking primarily at customers that expressed a negative view of single-plastic usage"
   ]
  },
  {
   "cell_type": "code",
   "execution_count": 189,
   "metadata": {},
   "outputs": [
    {
     "data": {
      "text/html": [
       "<div>\n",
       "<style scoped>\n",
       "    .dataframe tbody tr th:only-of-type {\n",
       "        vertical-align: middle;\n",
       "    }\n",
       "\n",
       "    .dataframe tbody tr th {\n",
       "        vertical-align: top;\n",
       "    }\n",
       "\n",
       "    .dataframe thead th {\n",
       "        text-align: right;\n",
       "    }\n",
       "</style>\n",
       "<table border=\"1\" class=\"dataframe\">\n",
       "  <thead>\n",
       "    <tr style=\"text-align: right;\">\n",
       "      <th></th>\n",
       "      <th>Name</th>\n",
       "      <th>Emotional_Impact</th>\n",
       "      <th>Hurdles</th>\n",
       "      <th>Sex</th>\n",
       "      <th>Age</th>\n",
       "      <th>College_Student</th>\n",
       "      <th>Concerns/fears</th>\n",
       "    </tr>\n",
       "  </thead>\n",
       "  <tbody>\n",
       "    <tr>\n",
       "      <td>0</td>\n",
       "      <td>Phat Nguyen</td>\n",
       "      <td>0</td>\n",
       "      <td>0</td>\n",
       "      <td>M</td>\n",
       "      <td>18-24</td>\n",
       "      <td>1</td>\n",
       "      <td>Environmental</td>\n",
       "    </tr>\n",
       "    <tr>\n",
       "      <td>1</td>\n",
       "      <td>Natalie Olvera</td>\n",
       "      <td>0</td>\n",
       "      <td>0</td>\n",
       "      <td>F</td>\n",
       "      <td>18-24</td>\n",
       "      <td>0</td>\n",
       "      <td>Environmental</td>\n",
       "    </tr>\n",
       "    <tr>\n",
       "      <td>2</td>\n",
       "      <td>Rosario Moreno</td>\n",
       "      <td>0</td>\n",
       "      <td>0</td>\n",
       "      <td>F</td>\n",
       "      <td>18-24</td>\n",
       "      <td>1</td>\n",
       "      <td>Environmental</td>\n",
       "    </tr>\n",
       "    <tr>\n",
       "      <td>3</td>\n",
       "      <td>Maria Moreno</td>\n",
       "      <td>0</td>\n",
       "      <td>1</td>\n",
       "      <td>F</td>\n",
       "      <td>45-54</td>\n",
       "      <td>0</td>\n",
       "      <td>None</td>\n",
       "    </tr>\n",
       "    <tr>\n",
       "      <td>4</td>\n",
       "      <td>p5</td>\n",
       "      <td>-1</td>\n",
       "      <td>1</td>\n",
       "      <td>M</td>\n",
       "      <td>45-54</td>\n",
       "      <td>0</td>\n",
       "      <td>None</td>\n",
       "    </tr>\n",
       "  </tbody>\n",
       "</table>\n",
       "</div>"
      ],
      "text/plain": [
       "             Name  Emotional_Impact  Hurdles Sex    Age College_Student  \\\n",
       "0     Phat Nguyen                 0        0   M  18-24               1   \n",
       "1  Natalie Olvera                 0        0   F  18-24               0   \n",
       "2  Rosario Moreno                 0        0   F  18-24               1   \n",
       "3    Maria Moreno                 0        1   F  45-54               0   \n",
       "4              p5                -1        1   M  45-54               0   \n",
       "\n",
       "  Concerns/fears  \n",
       "0  Environmental  \n",
       "1  Environmental  \n",
       "2  Environmental  \n",
       "3           None  \n",
       "4           None  "
      ]
     },
     "execution_count": 189,
     "metadata": {},
     "output_type": "execute_result"
    }
   ],
   "source": [
    "Data = pd.read_csv('IntervieweeData.csv')\n",
    "Data.head()"
   ]
  },
  {
   "cell_type": "code",
   "execution_count": 190,
   "metadata": {},
   "outputs": [
    {
     "name": "stdout",
     "output_type": "stream",
     "text": [
      "Total customers interviewed: 25\n"
     ]
    }
   ],
   "source": [
    "#total number of participants\n",
    "total_customers = Data.count()[0]\n",
    "print(\"Total customers interviewed: \" + str(total_customers))"
   ]
  },
  {
   "cell_type": "code",
   "execution_count": 191,
   "metadata": {},
   "outputs": [],
   "source": [
    "#filtering for respondents with negative views of single-use plastics\n",
    "Data_unfavorable_view = Data.loc[(Data[\"Emotional_Impact\"] == 0)]\n",
    "\n",
    "#filtering for respondents with positive views of single-use plastics\n",
    "Data_favorable_view = Data.loc[(Data[\"Emotional_Impact\"] == 1)]\n",
    "\n",
    "#filtering for respondents with indifferent views of single-use plastics\n",
    "Data_indifferent_view = Data.loc[(Data[\"Emotional_Impact\"] == -1)]"
   ]
  },
  {
   "cell_type": "code",
   "execution_count": 192,
   "metadata": {},
   "outputs": [],
   "source": [
    "#Number of respondents with negative views of single-use plastics\n",
    "total_negative = Data_unfavorable_view.count()[0]\n",
    "\n",
    "#Number of respondents with positive views of single-use plastics\n",
    "total_positive = Data_favorable_view.count()[0]\n",
    "\n",
    "#Number of respondents with indifferent views of single-use plastics\n",
    "total_indifferent = Data_indifferent_view.count()[0]"
   ]
  },
  {
   "cell_type": "code",
   "execution_count": 193,
   "metadata": {},
   "outputs": [
    {
     "name": "stdout",
     "output_type": "stream",
     "text": [
      "Percentage of respondents with negative views of single-use plastics:\n",
      "60.0%\n"
     ]
    }
   ],
   "source": [
    "print(\"Percentage of respondents with negative views of single-use plastics:\")\n",
    "print (str(100*(total_negative/total_customers)) + \"%\")"
   ]
  },
  {
   "cell_type": "markdown",
   "metadata": {},
   "source": [
    "#### Visualization for emotional impact for entire dataset "
   ]
  },
  {
   "cell_type": "code",
   "execution_count": 194,
   "metadata": {},
   "outputs": [],
   "source": [
    "labels = ['Negative', 'Positive', 'Indifferent']\n",
    "sizes = [total_negative, total_positive, total_indifferent]\n",
    "\n",
    "title = 'Emotional Impact of Single-use Plastics'\n",
    "filename = 'EmotionalImpactAll'"
   ]
  },
  {
   "cell_type": "code",
   "execution_count": 195,
   "metadata": {},
   "outputs": [
    {
     "data": {
      "image/png": "[encoded data removed]",
      "text/plain": [
       "<Figure size 432x288 with 1 Axes>"
      ]
     },
     "metadata": {},
     "output_type": "display_data"
    }
   ],
   "source": [
    "pieHoleChartBuilder(labels, sizes, title, filename)"
   ]
  },
  {
   "cell_type": "markdown",
   "metadata": {},
   "source": [
    "#### Customers who are prefer alternatives to single-use plastics & encountered hurdles in the purchasing of alternatives"
   ]
  },
  {
   "cell_type": "code",
   "execution_count": 196,
   "metadata": {},
   "outputs": [
    {
     "name": "stdout",
     "output_type": "stream",
     "text": [
      "Total: 15\n"
     ]
    }
   ],
   "source": [
    "#total number of participants with negative perception of plastics\n",
    "total_negative_customers = Data_unfavorable_view.count()[0]\n",
    "print(\"Total: \" + str(total_negative_customers))"
   ]
  },
  {
   "cell_type": "code",
   "execution_count": 197,
   "metadata": {},
   "outputs": [],
   "source": [
    "#encountered hurdles in the purchasing of alternatives\n",
    "Total_Negative_hurdles = Data_unfavorable_view.loc[(Data_unfavorable_view[\"Hurdles\"] == 0)]\n",
    "\n",
    "#encountered no hurdles in the purchasing of alternatives\n",
    "Total_Positive_hurdles = Data_unfavorable_view.loc[(Data_unfavorable_view[\"Hurdles\"] == 1)]\n",
    "\n",
    "#no opinion on hurdles in the purchasing of alternatives\n",
    "Total_Indifferent_hurdles = Data_unfavorable_view.loc[(Data_unfavorable_view[\"Hurdles\"] == -1)]"
   ]
  },
  {
   "cell_type": "code",
   "execution_count": 198,
   "metadata": {},
   "outputs": [],
   "source": [
    "#Number of respondents with negative views of single-use plastics\n",
    "total_negative = Total_Negative_hurdles.count()[0]\n",
    "\n",
    "#Number of respondents with positive views of single-use plastics\n",
    "total_positive = Total_Positive_hurdles.count()[0]\n",
    "\n",
    "#Number of respondents with indifferent views of single-use plastics\n",
    "total_indifferent = Total_Indifferent_hurdles.count()[0]"
   ]
  },
  {
   "cell_type": "code",
   "execution_count": 199,
   "metadata": {},
   "outputs": [
    {
     "name": "stdout",
     "output_type": "stream",
     "text": [
      "Percentage of respondents with negative views of single-use plastics & Hurdles:\n",
      "80.0%\n"
     ]
    }
   ],
   "source": [
    "print(\"Percentage of respondents with negative views of single-use plastics & Hurdles:\")\n",
    "print (str((100*(total_negative/total_negative_customers))) + \"%\")"
   ]
  },
  {
   "cell_type": "markdown",
   "metadata": {},
   "source": [
    "#### Visualization for emotional impact & hurdles for entire dataset "
   ]
  },
  {
   "cell_type": "code",
   "execution_count": 203,
   "metadata": {},
   "outputs": [],
   "source": [
    "objects = ('Negative', 'Positive', 'Indifferent')\n",
    "bins = [total_negative, total_positive, total_indifferent]\n",
    "\n",
    "title = 'Customers Who view Single-use Plastics Unfavorably & Hurdles'\n",
    "ylabel = 'Number of Customers'\n",
    "filename = 'AllHurdles.png'"
   ]
  },
  {
   "cell_type": "code",
   "execution_count": 204,
   "metadata": {},
   "outputs": [
    {
     "data": {
      "image/png": "[encoded data removed]",
      "text/plain": [
       "<Figure size 432x288 with 1 Axes>"
      ]
     },
     "metadata": {
      "needs_background": "light"
     },
     "output_type": "display_data"
    }
   ],
   "source": [
    "barGraphBuilder(objects, bins, title, ylabel,  filename)"
   ]
  },
  {
   "cell_type": "markdown",
   "metadata": {},
   "source": [
    "## Emotional Impact of Single-use Plastics on Students"
   ]
  },
  {
   "cell_type": "code",
   "execution_count": 107,
   "metadata": {},
   "outputs": [
    {
     "data": {
      "text/html": [
       "<div>\n",
       "<style scoped>\n",
       "    .dataframe tbody tr th:only-of-type {\n",
       "        vertical-align: middle;\n",
       "    }\n",
       "\n",
       "    .dataframe tbody tr th {\n",
       "        vertical-align: top;\n",
       "    }\n",
       "\n",
       "    .dataframe thead th {\n",
       "        text-align: right;\n",
       "    }\n",
       "</style>\n",
       "<table border=\"1\" class=\"dataframe\">\n",
       "  <thead>\n",
       "    <tr style=\"text-align: right;\">\n",
       "      <th></th>\n",
       "      <th>Name</th>\n",
       "      <th>Emotional_Impact</th>\n",
       "      <th>Hurdles</th>\n",
       "      <th>Sex</th>\n",
       "      <th>Age</th>\n",
       "      <th>College_Student</th>\n",
       "      <th>Concerns/fears</th>\n",
       "    </tr>\n",
       "  </thead>\n",
       "  <tbody>\n",
       "    <tr>\n",
       "      <td>0</td>\n",
       "      <td>Phat Nguyen</td>\n",
       "      <td>0</td>\n",
       "      <td>0</td>\n",
       "      <td>M</td>\n",
       "      <td>18-24</td>\n",
       "      <td>1</td>\n",
       "      <td>Environmental</td>\n",
       "    </tr>\n",
       "    <tr>\n",
       "      <td>2</td>\n",
       "      <td>Rosario Moreno</td>\n",
       "      <td>0</td>\n",
       "      <td>0</td>\n",
       "      <td>F</td>\n",
       "      <td>18-24</td>\n",
       "      <td>1</td>\n",
       "      <td>Environmental</td>\n",
       "    </tr>\n",
       "    <tr>\n",
       "      <td>10</td>\n",
       "      <td>Isabella Rondon</td>\n",
       "      <td>1</td>\n",
       "      <td>0</td>\n",
       "      <td>F</td>\n",
       "      <td>18-24</td>\n",
       "      <td>1</td>\n",
       "      <td>None</td>\n",
       "    </tr>\n",
       "    <tr>\n",
       "      <td>12</td>\n",
       "      <td>Joumana Altalal</td>\n",
       "      <td>0</td>\n",
       "      <td>0</td>\n",
       "      <td>F</td>\n",
       "      <td>18-24</td>\n",
       "      <td>1</td>\n",
       "      <td>Environmental</td>\n",
       "    </tr>\n",
       "    <tr>\n",
       "      <td>14</td>\n",
       "      <td>Abbey Biehl</td>\n",
       "      <td>0</td>\n",
       "      <td>0</td>\n",
       "      <td>F</td>\n",
       "      <td>18-24</td>\n",
       "      <td>1</td>\n",
       "      <td>Environmental</td>\n",
       "    </tr>\n",
       "  </tbody>\n",
       "</table>\n",
       "</div>"
      ],
      "text/plain": [
       "               Name  Emotional_Impact  Hurdles Sex    Age College_Student  \\\n",
       "0       Phat Nguyen                 0        0   M  18-24               1   \n",
       "2    Rosario Moreno                 0        0   F  18-24               1   \n",
       "10  Isabella Rondon                 1        0   F  18-24               1   \n",
       "12  Joumana Altalal                 0        0   F  18-24               1   \n",
       "14      Abbey Biehl                 0        0   F  18-24               1   \n",
       "\n",
       "   Concerns/fears  \n",
       "0   Environmental  \n",
       "2   Environmental  \n",
       "10           None  \n",
       "12  Environmental  \n",
       "14  Environmental  "
      ]
     },
     "execution_count": 107,
     "metadata": {},
     "output_type": "execute_result"
    }
   ],
   "source": [
    "#Create subset of student data only\n",
    "Student_data = Data.loc[(Data[\"College_Student\"] == '1')]\n",
    "\n",
    "total_data_filtered = Data.loc[(Data[\"College_Student\"] != 'U')]\n",
    "\n",
    "\n",
    "Student_data.head()"
   ]
  },
  {
   "cell_type": "code",
   "execution_count": 94,
   "metadata": {},
   "outputs": [
    {
     "name": "stdout",
     "output_type": "stream",
     "text": [
      "Total Students: 11\n"
     ]
    }
   ],
   "source": [
    "#total number of students\n",
    "total_students = Student_data.count()[0]\n",
    "print(\"Total Students: \" + str(total_students))"
   ]
  },
  {
   "cell_type": "code",
   "execution_count": 118,
   "metadata": {},
   "outputs": [
    {
     "name": "stdout",
     "output_type": "stream",
     "text": [
      "Percentage of Students in dataset: 44.0%\n"
     ]
    }
   ],
   "source": [
    "#percentage of known students in dataset\n",
    "student_representation = (str((100*(total_students/total_customers))) + \"%\")\n",
    "print(\"Percentage of Students in dataset: \" + student_representation)"
   ]
  },
  {
   "cell_type": "code",
   "execution_count": 113,
   "metadata": {},
   "outputs": [
    {
     "name": "stdout",
     "output_type": "stream",
     "text": [
      "Percentage of Students in dataset: 55.00000000000001%\n"
     ]
    }
   ],
   "source": [
    "#percentage of known students in dataset when filtering out unknown student statuses\n",
    "total_filtered = total_data_filtered.count()[0]\n",
    "\n",
    "filtered_student_representation = (str((100*(total_students/total_filtered))) + \"%\")\n",
    "\n",
    "print(\"Percentage of Students in dataset: \" + filtered_student_representation)"
   ]
  },
  {
   "cell_type": "code",
   "execution_count": 112,
   "metadata": {},
   "outputs": [],
   "source": [
    "#filtering for students with negative views of single-use plastics\n",
    "students_unfavorable_view = Student_data.loc[(Student_data[\"Emotional_Impact\"] == 0)]\n",
    "\n",
    "#filtering for students with positive views of single-use plastics\n",
    "students_favorable_view = Student_data.loc[(Student_data[\"Emotional_Impact\"] == 1)]\n",
    "\n",
    "#filtering for students with indifferent views of single-use plastics\n",
    "students_indifferent_view = Student_data.loc[(Student_data[\"Emotional_Impact\"] == -1)]"
   ]
  },
  {
   "cell_type": "code",
   "execution_count": 122,
   "metadata": {},
   "outputs": [],
   "source": [
    "#Number of students with negative views of single-use plastics\n",
    "total_student_negative = students_unfavorable_view.count()[0]\n",
    "\n",
    "#Number of respondents with positive views of single-use plastics\n",
    "total_student_positive = students_favorable_view.count()[0]\n",
    "\n",
    "#Number of respondents with indifferent views of single-use plastics\n",
    "total_student_indifferent = students_indifferent_view.count()[0]"
   ]
  },
  {
   "cell_type": "markdown",
   "metadata": {},
   "source": [
    "#### Visualization for emotional impact on students"
   ]
  },
  {
   "cell_type": "code",
   "execution_count": 120,
   "metadata": {},
   "outputs": [],
   "source": [
    "labels = ['Negative', 'Positive', 'Indifferent']\n",
    "\n",
    "sizes = [total_student_negative, \n",
    "         total_student_positive, \n",
    "         total_student_indifferent]\n",
    "\n",
    "title = 'Emotional Impact of Single-use Plastics On Students'\n",
    "filename = 'EmotionalImpactStudents'"
   ]
  },
  {
   "cell_type": "code",
   "execution_count": 121,
   "metadata": {},
   "outputs": [
    {
     "data": {
      "image/png": "[encoded data removed]",
      "text/plain": [
       "<Figure size 432x288 with 1 Axes>"
      ]
     },
     "metadata": {},
     "output_type": "display_data"
    }
   ],
   "source": [
    "pieHoleChartBuilder(labels, sizes, title, filename)"
   ]
  },
  {
   "cell_type": "markdown",
   "metadata": {},
   "source": [
    "#### Customers who are prefer alternatives to single-use plastics & encountered hurdles in the purchasing of alternatives"
   ]
  },
  {
   "cell_type": "code",
   "execution_count": 126,
   "metadata": {},
   "outputs": [
    {
     "name": "stdout",
     "output_type": "stream",
     "text": [
      "Total Students who prefer alternatives: 8\n"
     ]
    }
   ],
   "source": [
    "#total number of students with negative perception of plastics\n",
    "print(\"Total Students who prefer alternatives: \" + str(total_student_negative))"
   ]
  },
  {
   "cell_type": "code",
   "execution_count": 127,
   "metadata": {},
   "outputs": [],
   "source": [
    "#encountered hurdles in the purchasing of alternatives\n",
    "Students_Negative_hurdles = students_unfavorable_view.loc[(students_unfavorable_view[\"Hurdles\"] == 0)]\n",
    "\n",
    "#encountered no hurdles in the purchasing of alternatives\n",
    "Students_Positive_hurdles = students_unfavorable_view.loc[(students_unfavorable_view[\"Hurdles\"] == 1)]\n",
    "\n",
    "#no opinion on hurdles in the purchasing of alternatives\n",
    "Students_Indifferent_hurdles = students_unfavorable_view.loc[(students_unfavorable_view[\"Hurdles\"] == -1)]"
   ]
  },
  {
   "cell_type": "code",
   "execution_count": 130,
   "metadata": {},
   "outputs": [],
   "source": [
    "#Number of students with negative views of single-use plastics\n",
    "total_student_negative_h = Students_Negative_hurdles.count()[0]\n",
    "\n",
    "#Number of respondents with positive views of single-use plastics\n",
    "total_student_positive_h = Students_Positive_hurdles.count()[0]\n",
    "\n",
    "#Number of respondents with indifferent views of single-use plastics\n",
    "total_student_indifferent_h = Students_Indifferent_hurdles.count()[0]"
   ]
  },
  {
   "cell_type": "code",
   "execution_count": 132,
   "metadata": {},
   "outputs": [
    {
     "name": "stdout",
     "output_type": "stream",
     "text": [
      "Percentage of students with negative views of single-use plastics & Hurdles:\n",
      "100.0%\n"
     ]
    }
   ],
   "source": [
    "print(\"Percentage of students with negative views of single-use plastics & Hurdles:\")\n",
    "print (str((100*(total_student_negative_h/total_student_negative))) + \"%\")"
   ]
  },
  {
   "cell_type": "code",
   "execution_count": 219,
   "metadata": {},
   "outputs": [],
   "source": [
    "objects = ('Negative', 'Positive', 'Indifferent')\n",
    "\n",
    "bins = [total_student_negative_h, \n",
    "        total_student_positive_h, \n",
    "        total_student_indifferent_h]\n",
    "\n",
    "title = 'Students Who View Single-use Plastics Unfavorably & Hurdles'\n",
    "ylabel = 'Number of Students'\n",
    "filename = 'StudentsHurdles.png'"
   ]
  },
  {
   "cell_type": "code",
   "execution_count": 220,
   "metadata": {},
   "outputs": [
    {
     "data": {
      "image/png": "[encoded data removed]",
      "text/plain": [
       "<Figure size 432x288 with 1 Axes>"
      ]
     },
     "metadata": {
      "needs_background": "light"
     },
     "output_type": "display_data"
    }
   ],
   "source": [
    "barGraphBuilder(objects, bins, title, ylabel,  filename)"
   ]
  },
  {
   "cell_type": "markdown",
   "metadata": {},
   "source": [
    "#### Students & Concerns "
   ]
  },
  {
   "cell_type": "code",
   "execution_count": 144,
   "metadata": {},
   "outputs": [
    {
     "data": {
      "text/html": [
       "<div>\n",
       "<style scoped>\n",
       "    .dataframe tbody tr th:only-of-type {\n",
       "        vertical-align: middle;\n",
       "    }\n",
       "\n",
       "    .dataframe tbody tr th {\n",
       "        vertical-align: top;\n",
       "    }\n",
       "\n",
       "    .dataframe thead th {\n",
       "        text-align: right;\n",
       "    }\n",
       "</style>\n",
       "<table border=\"1\" class=\"dataframe\">\n",
       "  <thead>\n",
       "    <tr style=\"text-align: right;\">\n",
       "      <th></th>\n",
       "      <th>Name</th>\n",
       "      <th>Emotional_Impact</th>\n",
       "      <th>Hurdles</th>\n",
       "      <th>Sex</th>\n",
       "      <th>Age</th>\n",
       "      <th>College_Student</th>\n",
       "      <th>Concerns/fears</th>\n",
       "    </tr>\n",
       "  </thead>\n",
       "  <tbody>\n",
       "    <tr>\n",
       "      <td>0</td>\n",
       "      <td>Phat Nguyen</td>\n",
       "      <td>0</td>\n",
       "      <td>0</td>\n",
       "      <td>M</td>\n",
       "      <td>18-24</td>\n",
       "      <td>1</td>\n",
       "      <td>Environmental</td>\n",
       "    </tr>\n",
       "    <tr>\n",
       "      <td>2</td>\n",
       "      <td>Rosario Moreno</td>\n",
       "      <td>0</td>\n",
       "      <td>0</td>\n",
       "      <td>F</td>\n",
       "      <td>18-24</td>\n",
       "      <td>1</td>\n",
       "      <td>Environmental</td>\n",
       "    </tr>\n",
       "    <tr>\n",
       "      <td>10</td>\n",
       "      <td>Isabella Rondon</td>\n",
       "      <td>1</td>\n",
       "      <td>0</td>\n",
       "      <td>F</td>\n",
       "      <td>18-24</td>\n",
       "      <td>1</td>\n",
       "      <td>None</td>\n",
       "    </tr>\n",
       "    <tr>\n",
       "      <td>12</td>\n",
       "      <td>Joumana Altalal</td>\n",
       "      <td>0</td>\n",
       "      <td>0</td>\n",
       "      <td>F</td>\n",
       "      <td>18-24</td>\n",
       "      <td>1</td>\n",
       "      <td>Environmental</td>\n",
       "    </tr>\n",
       "    <tr>\n",
       "      <td>14</td>\n",
       "      <td>Abbey Biehl</td>\n",
       "      <td>0</td>\n",
       "      <td>0</td>\n",
       "      <td>F</td>\n",
       "      <td>18-24</td>\n",
       "      <td>1</td>\n",
       "      <td>Environmental</td>\n",
       "    </tr>\n",
       "    <tr>\n",
       "      <td>15</td>\n",
       "      <td>Sovoya Davis</td>\n",
       "      <td>-1</td>\n",
       "      <td>1</td>\n",
       "      <td>F</td>\n",
       "      <td>25-34</td>\n",
       "      <td>1</td>\n",
       "      <td>Environmental</td>\n",
       "    </tr>\n",
       "    <tr>\n",
       "      <td>16</td>\n",
       "      <td>Chand Haryani</td>\n",
       "      <td>0</td>\n",
       "      <td>0</td>\n",
       "      <td>M</td>\n",
       "      <td>18-24</td>\n",
       "      <td>1</td>\n",
       "      <td>Environmental</td>\n",
       "    </tr>\n",
       "    <tr>\n",
       "      <td>17</td>\n",
       "      <td>Curtis Herbert</td>\n",
       "      <td>0</td>\n",
       "      <td>0</td>\n",
       "      <td>M</td>\n",
       "      <td>18-24</td>\n",
       "      <td>1</td>\n",
       "      <td>None</td>\n",
       "    </tr>\n",
       "    <tr>\n",
       "      <td>20</td>\n",
       "      <td>Melany Ruiz-Cruz</td>\n",
       "      <td>-1</td>\n",
       "      <td>0</td>\n",
       "      <td>F</td>\n",
       "      <td>18-24</td>\n",
       "      <td>1</td>\n",
       "      <td>Environmental</td>\n",
       "    </tr>\n",
       "    <tr>\n",
       "      <td>23</td>\n",
       "      <td>Trisha Singh</td>\n",
       "      <td>0</td>\n",
       "      <td>0</td>\n",
       "      <td>F</td>\n",
       "      <td>18-24</td>\n",
       "      <td>1</td>\n",
       "      <td>Environmental</td>\n",
       "    </tr>\n",
       "    <tr>\n",
       "      <td>24</td>\n",
       "      <td>Dipta Singh</td>\n",
       "      <td>0</td>\n",
       "      <td>0</td>\n",
       "      <td>F</td>\n",
       "      <td>25-34</td>\n",
       "      <td>1</td>\n",
       "      <td>Environmental</td>\n",
       "    </tr>\n",
       "  </tbody>\n",
       "</table>\n",
       "</div>"
      ],
      "text/plain": [
       "                Name  Emotional_Impact  Hurdles Sex    Age College_Student  \\\n",
       "0        Phat Nguyen                 0        0   M  18-24               1   \n",
       "2     Rosario Moreno                 0        0   F  18-24               1   \n",
       "10   Isabella Rondon                 1        0   F  18-24               1   \n",
       "12   Joumana Altalal                 0        0   F  18-24               1   \n",
       "14       Abbey Biehl                 0        0   F  18-24               1   \n",
       "15      Sovoya Davis                -1        1   F  25-34               1   \n",
       "16     Chand Haryani                 0        0   M  18-24               1   \n",
       "17    Curtis Herbert                 0        0   M  18-24               1   \n",
       "20  Melany Ruiz-Cruz                -1        0   F  18-24               1   \n",
       "23      Trisha Singh                 0        0   F  18-24               1   \n",
       "24       Dipta Singh                 0        0   F  25-34               1   \n",
       "\n",
       "   Concerns/fears  \n",
       "0   Environmental  \n",
       "2   Environmental  \n",
       "10           None  \n",
       "12  Environmental  \n",
       "14  Environmental  \n",
       "15  Environmental  \n",
       "16  Environmental  \n",
       "17           None  \n",
       "20  Environmental  \n",
       "23  Environmental  \n",
       "24  Environmental  "
      ]
     },
     "execution_count": 144,
     "metadata": {},
     "output_type": "execute_result"
    }
   ],
   "source": [
    "Student_data"
   ]
  },
  {
   "cell_type": "code",
   "execution_count": 148,
   "metadata": {},
   "outputs": [
    {
     "data": {
      "text/plain": [
       "count                11\n",
       "unique                2\n",
       "top       Environmental\n",
       "freq                  9\n",
       "Name: Concerns/fears, dtype: object"
      ]
     },
     "execution_count": 148,
     "metadata": {},
     "output_type": "execute_result"
    }
   ],
   "source": [
    "#Student concern ditribution \n",
    "concerns = Student_data['Concerns/fears'].describe()\n",
    "concerns"
   ]
  },
  {
   "cell_type": "code",
   "execution_count": 156,
   "metadata": {},
   "outputs": [],
   "source": [
    "#Number of students that expressed fear/concerns for environment\n",
    "environmental_count = Student_data.loc[(Student_data[\"Concerns/fears\"] == 'Environmental')].count()[0]\n",
    "\n",
    "#Number of students that expressed no fear/concerns \n",
    "none_count = Student_data.loc[(Student_data[\"Concerns/fears\"] == 'None')].count()[0]"
   ]
  },
  {
   "cell_type": "code",
   "execution_count": 215,
   "metadata": {},
   "outputs": [],
   "source": [
    "labels = ['Environmental', 'Other']\n",
    "sizes = [environmental_count, none_count]\n",
    "\n",
    "title = \"Distribution of Student Fears & Concerns\"\n",
    "filename= 'StudentConcerns'"
   ]
  },
  {
   "cell_type": "code",
   "execution_count": 218,
   "metadata": {},
   "outputs": [
    {
     "data": {
      "image/png": "[encoded data removed]",
      "text/plain": [
       "<Figure size 432x288 with 1 Axes>"
      ]
     },
     "metadata": {},
     "output_type": "display_data"
    }
   ],
   "source": [
    "pieChartBuilder(labels, sizes, title, filename, explode = (0, 0.1), colors=['red','blue']  )"
   ]
  },
  {
   "cell_type": "code",
   "execution_count": null,
   "metadata": {},
   "outputs": [],
   "source": []
  }
 ],
 "metadata": {
  "kernelspec": {
   "display_name": "Python 3",
   "language": "python",
   "name": "python3"
  },
  "language_info": {
   "codemirror_mode": {
    "name": "ipython",
    "version": 3
   },
   "file_extension": ".py",
   "mimetype": "text/x-python",
   "name": "python",
   "nbconvert_exporter": "python",
   "pygments_lexer": "ipython3",
   "version": "3.7.4"
  }
 },
 "nbformat": 4,
 "nbformat_minor": 4
}
